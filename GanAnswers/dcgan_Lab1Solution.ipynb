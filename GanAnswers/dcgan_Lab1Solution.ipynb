{
  "nbformat": 4,
  "nbformat_minor": 0,
  "metadata": {
    "colab": {
      "provenance": [],
      "gpuType": "T4",
      "authorship_tag": "ABX9TyPuPy7Dq71oISzaH7wF8LLA",
      "include_colab_link": true
    },
    "kernelspec": {
      "name": "python3",
      "display_name": "Python 3"
    },
    "language_info": {
      "name": "python"
    },
    "accelerator": "GPU"
  },
  "cells": [
    {
      "cell_type": "markdown",
      "metadata": {
        "id": "view-in-github",
        "colab_type": "text"
      },
      "source": [
        "<a href=\"https://colab.research.google.com/github/AroubAlRizq/advanced_ai_exercises/blob/main/dcgan_Lab1Solution.ipynb\" target=\"_parent\"><img src=\"https://colab.research.google.com/assets/colab-badge.svg\" alt=\"Open In Colab\"/></a>"
      ]
    },
    {
      "cell_type": "code",
      "source": [
        "import torch, torchvision\n",
        "import torch.nn as nn\n",
        "from torch.utils.data import DataLoader\n",
        "from torchvision import transforms\n",
        "\n",
        "device = torch.device('cuda' if torch.cuda.is_available() else 'cpu')"
      ],
      "metadata": {
        "id": "RwqmOZuc91YD"
      },
      "execution_count": 2,
      "outputs": []
    },
    {
      "cell_type": "code",
      "source": [
        "# ---------------------------\n",
        "# Data\n",
        "# ---------------------------\n",
        "transform = transforms.Compose([\n",
        "    transforms.Resize(32),\n",
        "    transforms.ToTensor()                 # BUG (THERE IS NO BUG!)\n",
        "])\n",
        "ds = torchvision.datasets.CIFAR10('./data', train=True, download=True, transform=transform)\n",
        "loader = DataLoader(ds, batch_size=128, shuffle=True, num_workers=2, pin_memory=True)"
      ],
      "metadata": {
        "colab": {
          "base_uri": "https://localhost:8080/"
        },
        "id": "k2GG5RSA93dQ",
        "outputId": "418dfa88-3998-40eb-ba17-f23bd292472e"
      },
      "execution_count": 3,
      "outputs": [
        {
          "output_type": "stream",
          "name": "stderr",
          "text": [
            "100%|██████████| 170M/170M [00:03<00:00, 43.9MB/s]\n"
          ]
        }
      ]
    },
    {
      "cell_type": "code",
      "execution_count": 4,
      "metadata": {
        "id": "74YlfqGm7Gif"
      },
      "outputs": [],
      "source": [
        "# ---------------------------\n",
        "# Hyperparams\n",
        "# ---------------------------\n",
        "z_dim = 100\n",
        "g_lr  = 2e-4   # BUG (FIXED) - not 2, it's 4\n",
        "d_lr  = 2e-4"
      ]
    },
    {
      "cell_type": "code",
      "source": [
        "# ---------------------------\n",
        "# Models\n",
        "# ---------------------------\n",
        "class D(nn.Module):\n",
        "    def __init__(self, ch=64):\n",
        "        super().__init__()\n",
        "        self.net = nn.Sequential(\n",
        "            nn.Conv2d(3, ch,   4, 2, 1),\n",
        "            nn.LeakyReLU(0.2, inplace=True),         # BUG (Fixed) - should be 0.2  AND LeakyRelu to be a DCGAN\n",
        "            nn.Conv2d(ch, ch*2, 4, 2, 1),\n",
        "            nn.BatchNorm2d(ch*2),\n",
        "            nn.LeakyReLU(0.2, inplace=True),\n",
        "            nn.Conv2d(ch*2, ch*4, 4, 2, 1),\n",
        "            nn.BatchNorm2d(ch*4),\n",
        "            nn.LeakyReLU(0.2, inplace=True),\n",
        "            nn.Conv2d(ch*4, 1,    4, 1, 0),\n",
        "            #nn.Sigmoid()                   # BUG (Fixed) - NO SIGMOID\n",
        "        )\n",
        "    def forward(self, x):\n",
        "        return self.net(x).view(x.size(0))\n",
        "\n",
        "class G(nn.Module):\n",
        "    def __init__(self, z=100, ch=64):\n",
        "        super().__init__()\n",
        "        self.z_dim = z_dim\n",
        "        self.net = nn.Sequential(\n",
        "            nn.ConvTranspose2d(z,   ch*4, 4, 1, 0, bias=False),\n",
        "            nn.BatchNorm2d(ch*4),\n",
        "            nn.ReLU(True),\n",
        "            nn.ConvTranspose2d(ch*4, ch*2, 4, 2, 1, bias=False),\n",
        "            nn.BatchNorm2d(ch*2),\n",
        "            nn.ReLU(True),\n",
        "            nn.ConvTranspose2d(ch*2, ch,   4, 2, 1, bias=False),\n",
        "            nn.BatchNorm2d(ch),\n",
        "            nn.ReLU(True),\n",
        "            nn.ConvTranspose2d(ch,  3,     4, 2, 1, bias=False),\n",
        "            nn.Tanh()                  # BUG (Fixed) - NO TANH\n",
        "            # BUG\n",
        "        )\n",
        "    def forward(self, z):\n",
        "        z = z.view(z.size(0), self.z_dim, 1, 1)   # BUG (Fixed) - Z Dimension\n",
        "        return self.net(z)\n",
        "\n",
        "Dnet = D().to(device)\n",
        "Gnet = G(z_dim).to(device)"
      ],
      "metadata": {
        "id": "_ADQuBMP_G09"
      },
      "execution_count": 5,
      "outputs": []
    },
    {
      "cell_type": "code",
      "source": [
        "# ---------------------------\n",
        "# Loss & Optimizers\n",
        "# ---------------------------\n",
        "crit = nn.BCEWithLogitsLoss()             # using logits loss → D must NOT have Sigmoid (Done :  Removed)\n",
        "opt_d = torch.optim.Adam(Dnet.parameters(), lr=d_lr, betas=(0.9, 0.999))\n",
        "opt_g = torch.optim.Adam(Gnet.parameters(), lr=g_lr,  betas=(0.9, 0.999))"
      ],
      "metadata": {
        "id": "jqhAKoe1E9sL"
      },
      "execution_count": 6,
      "outputs": []
    },
    {
      "cell_type": "code",
      "source": [
        "# ---------------------------\n",
        "# Training (intentionally wrong)\n",
        "# ---------------------------\n",
        "Gnet.train()\n",
        "Dnet.train()\n",
        "\n",
        "for real, _ in loader:\n",
        "    real = real.to(device)\n",
        "    b = real.size(0)\n",
        "\n",
        "    opt_d.zero_grad(set_to_none=True) # was missing\n",
        "\n",
        "    # ---- Discriminator step ----\n",
        "    z = torch.randn(b, z_dim, device=device)\n",
        "    fake = Gnet(z.view(b,z_dim,1,1))                         # BUG (Fixed) - fix dimensions\n",
        "\n",
        "    # BUG (Fixed) - switch ones and zeros\n",
        "    loss_d = crit(Dnet(real), torch.ones(b, device=device)) + \\\n",
        "             crit(Dnet(fake), torch.zeros (b, device=device))\n",
        "\n",
        "    loss_d.backward()\n",
        "    opt_d.step()                           # BUG (Fixed) - d step not g\n",
        "\n",
        "    opt_g.zero_grad(set_to_none=True) # was missing\n",
        "\n",
        "    # ---- Generator step ----\n",
        "    z = torch.randn(b, z_dim, device=device)\n",
        "    fake = Gnet(z.view(b,z_dim,1,1))\n",
        "    # BUG (Fixed) - fix dimensions\n",
        "    loss_g = crit(Dnet(fake), torch.zeros(b, device=device))\n",
        "    loss_g.backward()\n",
        "    opt_g.step()\n",
        "    # (generator optimization step)\n",
        "    # (missing)\n",
        "      # keep single mini-batch for this broken demo\n",
        "\n",
        "print(\"Your task: fix all 10 bugs until training runs and samples look reasonable.\")"
      ],
      "metadata": {
        "colab": {
          "base_uri": "https://localhost:8080/"
        },
        "id": "RvV00_y-FDAX",
        "outputId": "96eadb1d-0a6f-44b5-9b63-82a361e4bd50"
      },
      "execution_count": 8,
      "outputs": [
        {
          "output_type": "stream",
          "name": "stdout",
          "text": [
            "Your task: fix all 10 bugs until training runs and samples look reasonable.\n"
          ]
        }
      ]
    }
  ]
}
