{
  "nbformat": 4,
  "nbformat_minor": 0,
  "metadata": {
    "colab": {
      "provenance": [],
      "authorship_tag": "ABX9TyM3zwr6IAmxhw00oZA/2oFC",
      "include_colab_link": true
    },
    "kernelspec": {
      "name": "python3",
      "display_name": "Python 3"
    },
    "language_info": {
      "name": "python"
    }
  },
  "cells": [
    {
      "cell_type": "markdown",
      "metadata": {
        "id": "view-in-github",
        "colab_type": "text"
      },
      "source": [
        "<a href=\"https://colab.research.google.com/github/AroubAlRizq/advanced_ai_exercises/blob/main/Lab2SOLUTION.ipynb\" target=\"_parent\"><img src=\"https://colab.research.google.com/assets/colab-badge.svg\" alt=\"Open In Colab\"/></a>"
      ]
    },
    {
      "cell_type": "markdown",
      "source": [
        "Separate imports for tidiness"
      ],
      "metadata": {
        "id": "bESJL-fUOOga"
      }
    },
    {
      "cell_type": "code",
      "execution_count": 10,
      "metadata": {
        "id": "_x0Px1rlN-h8"
      },
      "outputs": [],
      "source": [
        "import torch, torchvision, torch.nn as nn\n",
        "from torch.utils.data import DataLoader\n",
        "from torchvision import transforms\n",
        "from tqdm import tqdm\n",
        "import torch"
      ]
    },
    {
      "cell_type": "code",
      "source": [
        "device=torch.device('cuda' if torch.cuda.is_available() else 'cpu')"
      ],
      "metadata": {
        "id": "WFPhXsp_OM5f"
      },
      "execution_count": 2,
      "outputs": []
    },
    {
      "cell_type": "code",
      "source": [
        "transform=transforms.Compose([transforms.ToTensor() ,\n",
        "transforms.Normalize((0.5,), (0.5,))])  # BUG normalize DONE\n",
        "\n",
        "loader=DataLoader(torchvision.datasets.MNIST('./data',download=True,train = True,transform=transform),batch_size=256,shuffle=True,num_workers=2,pin_memory=True)\n",
        "z_dim=100; g_lr=2e-2; d_lr=2e-5"
      ],
      "metadata": {
        "id": "EyxqsciHObl3"
      },
      "execution_count": 19,
      "outputs": []
    },
    {
      "cell_type": "code",
      "source": [
        "batch = next(iter(loader))"
      ],
      "metadata": {
        "colab": {
          "base_uri": "https://localhost:8080/"
        },
        "id": "x2hesvrRQRpJ",
        "outputId": "77c6643a-1f87-4593-f653-4d1d6b621f84"
      },
      "execution_count": 8,
      "outputs": [
        {
          "output_type": "stream",
          "name": "stderr",
          "text": [
            "/usr/local/lib/python3.12/dist-packages/torch/utils/data/dataloader.py:666: UserWarning: 'pin_memory' argument is set as true but no accelerator is found, then device pinned memory won't be used.\n",
            "  warnings.warn(warn_msg)\n"
          ]
        }
      ]
    },
    {
      "cell_type": "code",
      "source": [
        "batch[0].shape"
      ],
      "metadata": {
        "colab": {
          "base_uri": "https://localhost:8080/"
        },
        "id": "YTr0taTtQkrF",
        "outputId": "16945b5b-7627-4157-a034-5c03581e7fb0"
      },
      "execution_count": 9,
      "outputs": [
        {
          "output_type": "execute_result",
          "data": {
            "text/plain": [
              "torch.Size([256, 1, 28, 28])"
            ]
          },
          "metadata": {},
          "execution_count": 9
        }
      ]
    },
    {
      "cell_type": "code",
      "source": [
        "class D(nn.Module):\n",
        "    def __init__(self):\n",
        "        super().__init__();\n",
        "        self.net=nn.Sequential(nn.Conv2d(1,32,4,2,1),\n",
        "                               nn.LeakyReLU(0.2,True),\n",
        "                               nn.Conv2d(32,64,4,2,1),\n",
        "                               nn.BatchNorm2d(64),\n",
        "                               nn.LeakyReLU(0.2,True),\n",
        "                               nn.Conv2d(64,1,7,1,0),\n",
        "                               nn.Sigmoid())\n",
        "\n",
        "    def forward(self,x):\n",
        "      return self.net(x).view(x.size(0),1)\n"
      ],
      "metadata": {
        "id": "XnmEnLK9OncG"
      },
      "execution_count": 12,
      "outputs": []
    },
    {
      "cell_type": "code",
      "source": [
        "class G(nn.Module):\n",
        "    def __init__(self):\n",
        "        super().__init__();\n",
        "        self.net=nn.Sequential(\n",
        "            nn.ConvTranspose2d(100,128,7,1,0),\n",
        "            nn.BatchNorm2d(128),\n",
        "            nn.ReLU(True),\n",
        "            nn.ConvTranspose2d(128,64,4,2,1),\n",
        "            nn.BatchNorm2d(64),\n",
        "            nn.ReLU(True),\n",
        "            nn.ConvTranspose2d(64,1,4,2,1),\n",
        "            nn.Tanh())\n",
        "             # BUG missing Tanh DONE\n",
        "\n",
        "    def forward(self,z):\n",
        "      z=z.view(z.size(0),100,1,1);\n",
        "      return self.net(z)  # BUG reshape\n",
        "\n",
        "Dnet=D().to(device);\n",
        "Gnet=G().to(device)\n",
        "crit=nn.BCEWithLogitsLoss();\n",
        "opt_d=torch.optim.Adam(Dnet.parameters(),\n",
        "                       lr=d_lr,betas=(0.9,0.999)); opt_g=torch.optim.Adam(Gnet.parameters(),\n",
        "                                                                          lr=g_lr,betas=(0.9,0.999))\n",
        ""
      ],
      "metadata": {
        "id": "HG65LQTRRlap"
      },
      "execution_count": 20,
      "outputs": []
    },
    {
      "cell_type": "code",
      "source": [
        "from tqdm import tqdm\n",
        "for real,_ in tqdm(loader):\n",
        "    real=real.to(device); b=real.size(0)\n",
        "    z=torch.randn(b,z_dim,device=device);\n",
        "    fake=Gnet(z.view(b,z_dim,1,1))\n",
        "    loss_d=crit(Dnet(real),\n",
        "                torch.ones(b,1,device=device)) # D(x) should be 1\n",
        "    +crit(Dnet(fake),torch.zeros(b,1,device=device))  # D(G(x)) should be 0\n",
        "    loss_d.backward();\n",
        "    opt_d.step()  # BUG\n",
        "    z=torch.randn(b,z_dim,device=device);\n",
        "    fake=Gnet(z.view(b,z_dim,1,1))\n",
        "    loss_g=crit(Dnet(fake),\n",
        "                torch.ones(b,1,device=device))  # BUG non-sat\n",
        "    loss_g.backward()  # BUG missing step\n",
        "    opt_d.step()\n",
        "print('Now fix all the issues.')"
      ],
      "metadata": {
        "colab": {
          "base_uri": "https://localhost:8080/"
        },
        "id": "Cbx5vUUPOGjs",
        "outputId": "a107130f-9ce7-4b8f-9c40-af628d65f5db"
      },
      "execution_count": 21,
      "outputs": [
        {
          "output_type": "stream",
          "name": "stderr",
          "text": [
            "\r  0%|          | 0/235 [00:00<?, ?it/s]/usr/local/lib/python3.12/dist-packages/torch/utils/data/dataloader.py:666: UserWarning: 'pin_memory' argument is set as true but no accelerator is found, then device pinned memory won't be used.\n",
            "  warnings.warn(warn_msg)\n",
            "100%|██████████| 235/235 [03:18<00:00,  1.18it/s]"
          ]
        },
        {
          "output_type": "stream",
          "name": "stdout",
          "text": [
            "Now fix all the issues.\n"
          ]
        },
        {
          "output_type": "stream",
          "name": "stderr",
          "text": [
            "\n"
          ]
        }
      ]
    },
    {
      "cell_type": "code",
      "source": [],
      "metadata": {
        "id": "BMXmraD8Vylw"
      },
      "execution_count": null,
      "outputs": []
    }
  ]
}
