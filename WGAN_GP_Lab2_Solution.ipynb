{
  "nbformat": 4,
  "nbformat_minor": 0,
  "metadata": {
    "colab": {
      "provenance": [],
      "gpuType": "T4",
      "authorship_tag": "ABX9TyN44tW77SaqZQYFieRxjXFz",
      "include_colab_link": true
    },
    "kernelspec": {
      "name": "python3",
      "display_name": "Python 3"
    },
    "language_info": {
      "name": "python"
    },
    "accelerator": "GPU"
  },
  "cells": [
    {
      "cell_type": "markdown",
      "metadata": {
        "id": "view-in-github",
        "colab_type": "text"
      },
      "source": [
        "<a href=\"https://colab.research.google.com/github/AroubAlRizq/advanced_ai_exercises/blob/main/WGAN_GP_Lab2_Solution.ipynb\" target=\"_parent\"><img src=\"https://colab.research.google.com/assets/colab-badge.svg\" alt=\"Open In Colab\"/></a>"
      ]
    },
    {
      "cell_type": "code",
      "execution_count": 1,
      "metadata": {
        "id": "8JM57Lbibq7U"
      },
      "outputs": [],
      "source": [
        "import torch, torchvision\n",
        "import torch.nn as nn\n",
        "import torch.nn.functional as F\n",
        "from torch.utils.data import DataLoader\n",
        "from torchvision import transforms"
      ]
    },
    {
      "cell_type": "code",
      "source": [
        "device = torch.device('cuda' if torch.cuda.is_available() else 'cpu')"
      ],
      "metadata": {
        "id": "57r0HJUTb2Zf"
      },
      "execution_count": 2,
      "outputs": []
    },
    {
      "cell_type": "code",
      "source": [
        "# ---------------------------\n",
        "# Data  (CIFAR-10 32×32)\n",
        "# ---------------------------\n",
        "transform = transforms.Compose([\n",
        "    transforms.Resize(32),\n",
        "    transforms.ToTensor(),\n",
        "    transforms.Normalize([0.5,0.5,0.5],[0.5,0.5,0.5])  # OK for Tanh - why? because it normalizes the range to [-1,1]\n",
        "])\n",
        "ds = torchvision.datasets.CIFAR10('./data', train=True, download=True, transform=transform)\n",
        "loader = DataLoader(ds, batch_size=64, shuffle=True, num_workers=2, pin_memory=True, drop_last=True)"
      ],
      "metadata": {
        "colab": {
          "base_uri": "https://localhost:8080/"
        },
        "id": "yCZCPkOBb6kb",
        "outputId": "c4ae1121-24e6-40f6-cb96-58e3d943e185"
      },
      "execution_count": 3,
      "outputs": [
        {
          "output_type": "stream",
          "name": "stderr",
          "text": [
            "100%|██████████| 170M/170M [00:04<00:00, 37.7MB/s]\n"
          ]
        }
      ]
    },
    {
      "cell_type": "code",
      "source": [
        "# ---------------------------\n",
        "# Hyperparams\n",
        "# ---------------------------\n",
        "z_dim = 128\n",
        "g_lr  = 2e-4\n",
        "d_lr  = 2e-4\n",
        "n_critic = 5                      # BUG - critic should be 5 not 1\n",
        "lambda_gp = 10.0"
      ],
      "metadata": {
        "id": "_I5hClc7b-Zt"
      },
      "execution_count": 4,
      "outputs": []
    },
    {
      "cell_type": "code",
      "source": [
        "# ---------------------------\n",
        "# Models\n",
        "# ---------------------------\n",
        "class Critic(nn.Module):\n",
        "    def __init__(self, ch=64):\n",
        "        super().__init__()\n",
        "        self.net = nn.Sequential(\n",
        "            nn.Conv2d(3, ch,   4, 2, 1),\n",
        "            nn.LeakyReLU(0.2, True),\n",
        "            nn.Conv2d(ch, ch*2, 4, 2, 1),\n",
        "            nn.InstanceNorm2d(ch*2, affine=True),\n",
        "            nn.LeakyReLU(0.2, True),\n",
        "            nn.Conv2d(ch*2, ch*4, 4, 2, 1),\n",
        "            nn.InstanceNorm2d(ch*4, affine=True),\n",
        "            nn.LeakyReLU(0.2, True),\n",
        "            nn.Conv2d(ch*4, 1, 4, 1, 0),\n",
        "            #nn.Sigmoid()                 # BUG - Remove Sigmoid\n",
        "        )\n",
        "    def forward(self, x):\n",
        "      return self.net(x).view(x.size(0))\n",
        "\n",
        "class Gen(nn.Module):\n",
        "    def __init__(self, z=128, ch=64):\n",
        "        super().__init__()\n",
        "        self.net = nn.Sequential(\n",
        "            nn.ConvTranspose2d(z,   ch*4, 4, 1, 0, bias=False),\n",
        "            nn.BatchNorm2d(ch*4),\n",
        "            nn.ReLU(True),\n",
        "            nn.ConvTranspose2d(ch*4, ch*2, 4, 2, 1, bias=False),\n",
        "            nn.BatchNorm2d(ch*2),\n",
        "            nn.ReLU(True),\n",
        "            nn.ConvTranspose2d(ch*2, ch,   4, 2, 1, bias=False),\n",
        "            nn.BatchNorm2d(ch),\n",
        "            nn.ReLU(True),\n",
        "            nn.ConvTranspose2d(ch,   3,    4, 2, 1, bias=False),\n",
        "            nn.Tanh()\n",
        "        )\n",
        "    def forward(self, z): return self.net(z.view(z.size(0), z.size(1), 1, 1))\n",
        "\n",
        "D = Critic().to(device)\n",
        "G = Gen(z_dim).to(device)"
      ],
      "metadata": {
        "id": "6nyL6-CscDYO"
      },
      "execution_count": 5,
      "outputs": []
    },
    {
      "cell_type": "code",
      "source": [
        "# ---------------------------\n",
        "# Setup\n",
        "# ---------------------------\n",
        "D.train()\n",
        "G.train()\n",
        "\n",
        "lambda_gp = 10.0         # gradient penalty coefficient (standard)\n",
        "n_critic  = 5            # critic steps per generator step (standard)\n",
        "g_lr = d_lr = 5e-5\n",
        "\n",
        "optG = torch.optim.RMSprop(G.parameters(), lr=g_lr)  # WGAN (vanilla) uses RMSprop\n",
        "optD = torch.optim.RMSprop(D.parameters(), lr=d_lr)\n",
        "\n",
        "def sample_z(batch, z_dim, device):\n",
        "    return torch.randn(batch, z_dim, 1, 1, device=device)  # changed to zdim for consistency\n",
        "\n",
        "# ---------------------------\n",
        "# Losses (WGAN)\n",
        "# ---------------------------\n",
        "def d_loss(real_scores, fake_scores):\n",
        "    return fake_scores.mean() - real_scores.mean()\n",
        "\n",
        "def g_loss(fake_scores):\n",
        "    return -fake_scores.mean()\n",
        "\n",
        "# ---------------------------\n",
        "# Gradient Penalty (WGAN-GP)\n",
        "# ---------------------------\n",
        "def gradient_penalty(Dnet, real, fake, lambda_gp=10.0):\n",
        "    b = real.size(0)\n",
        "    eps = torch.rand(b, 1, 1, 1, device=real.device, dtype=real.dtype) # added the ones\n",
        "    x_hat = eps * real + (1.0 - eps) * fake\n",
        "    x_hat.requires_grad_(True)\n",
        "\n",
        "    d_hat = Dnet(x_hat)\n",
        "    d_hat = d_hat.view(b)\n",
        "\n",
        "    grads = torch.autograd.grad(\n",
        "        outputs=d_hat.sum(),                # scalar\n",
        "        inputs=x_hat,\n",
        "        create_graph=True,                  # retain graph for higher-order grad\n",
        "        retain_graph=True,\n",
        "        only_inputs=True\n",
        "    )[0]                                    # [B, C, H, W]\n",
        "\n",
        "    grad_norm = grads.view(b, -1).norm(2, dim=1)\n",
        "    gp = lambda_gp * ((grad_norm - 1.0) ** 2).mean()\n",
        "    return gp\n",
        "\n",
        "# ---------------------------\n",
        "# Training loop (fixed)\n",
        "# ---------------------------\n",
        "for step, (real, _) in enumerate(loader):\n",
        "    real = real.to(device)\n",
        "    b = real.size(0)\n",
        "\n",
        "    # ---- Critic updates ----\n",
        "    for _ in range(n_critic):\n",
        "        z = sample_z(b, z_dim, device)\n",
        "        with torch.no_grad():\n",
        "            fake = G(z)\n",
        "\n",
        "        # (2) Critic scores\n",
        "        real_scores = D(real).view(b)\n",
        "        fake_scores = D(fake).view(b)\n",
        "\n",
        "        # (3) WGAN loss + GP\n",
        "        gp = gradient_penalty(D, real, fake, lambda_gp=lambda_gp)\n",
        "        lossD = d_loss(real_scores, fake_scores) + gp\n",
        "\n",
        "        # (4) Optimize critic\n",
        "        optD.zero_grad(set_to_none=True)\n",
        "        lossD.backward()\n",
        "        optD.step()\n",
        "\n",
        "    # ---- Generator update ----\n",
        "    z = sample_z(b, z_dim, device)\n",
        "    fake = G(z)\n",
        "    fake_scores = D(fake).view(b)\n",
        "    lossG = g_loss(fake_scores)\n",
        "\n",
        "    optG.zero_grad(set_to_none=True)\n",
        "    lossG.backward()\n",
        "    optG.step()\n",
        "\n",
        "    # (Optional) short-run break for debugging\n",
        "    # if step > 10: break\n"
      ],
      "metadata": {
        "id": "nPmpPStcmW1O"
      },
      "execution_count": 8,
      "outputs": []
    }
  ]
}